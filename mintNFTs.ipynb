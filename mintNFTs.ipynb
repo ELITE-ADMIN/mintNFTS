{
 "cells": [
  {
   "cell_type": "code",
   "execution_count": 59,
   "metadata": {},
   "outputs": [],
   "source": [
    "import requests\n",
    "import json\n",
    "\n",
    "for i in range(337,700):\n",
    "    file = open(\"/Users/kabir/animated-art-engine-2/build/gif/\"+str(i)+\".gif\", \"rb\")\n",
    "    response = requests.post(\n",
    "        \"https://api.nftport.xyz/v0/files\",\n",
    "        headers={\"Authorization\": '2acf5f67-f155-4f2b-b611-56b053a674c6'},\n",
    "        files={\"file\": file}\n",
    "    )\n",
    "    resp_str=response.text\n",
    "    resp_dict = json.loads(resp_str)\n",
    "    a=resp_dict['ipfs_url']\n",
    "    a_file = open(\"/Users/kabir/animated-art-engine-2/build/json/\"+str(i)+\".json\",\"r\",encoding=\"utf-8\")\n",
    "    json_object = json.load(a_file)\n",
    "    a_file.close()\n",
    "    json_object['image']=a\n",
    "    json_object\n",
    "    a_file = open(\"/Users/kabir/animated-art-engine-2/build/json/\"+str(i)+\".json\",\"w\",encoding=\"utf-8\")\n",
    "    json.dump(json_object,a_file)\n",
    "    a_file.close()\n"
   ]
  },
  {
   "cell_type": "code",
   "execution_count": null,
   "metadata": {},
   "outputs": [],
   "source": [
    "{\n",
    "  \"response\": \"OK\",\n",
    "  \"chain\": \"polygon\",\n",
    "  \"transaction_hash\": \"0xf062cdc8b9b92a35a2bf072cc87c253c011b3c671033f145307698d5c9f14959\",\n",
    "  \"transaction_external_url\": \"https://polygonscan.com/tx/0xf062cdc8b9b92a35a2bf072cc87c253c011b3c671033f145307698d5c9f14959\",\n",
    "  \"owner_address\": \"0x2752ca235436f7baEae41D30D335Ba1166FA6F8d\",\n",
    "  \"type\": \"erc721\",\n",
    "  \"name\": \"Queen of Hearts - Kajal\",\n",
    "  \"symbol\": \"QHKs1\"\n",
    "}"
   ]
  },
  {
   "cell_type": "code",
   "execution_count": null,
   "metadata": {},
   "outputs": [],
   "source": [
    "{\n",
    "  \"response\": \"OK\",\n",
    "  \"chain\": \"polygon\",\n",
    "  \"contract_address\": \"0x4EEFf2a9aF5a96E00Bf3F328Ad21088c15c0D50e\",\n",
    "  \"transaction_hash\": \"0xf062cdc8b9b92a35a2bf072cc87c253c011b3c671033f145307698d5c9f14959\"\n",
    "}"
   ]
  },
  {
   "cell_type": "code",
   "execution_count": null,
   "metadata": {},
   "outputs": [],
   "source": [
    "import requests\n",
    "import os\n",
    "from os import listdir\n",
    "from os.path import join\n",
    "\n",
    "metadata_directory_path = \"/Users/kabir/animated-art-engine-2/build/json\" #Replace with your path\n",
    "\n",
    "files = [f for f in listdir(metadata_directory_path)[:700] if str(join(metadata_directory_path, f)).endswith('.json')]\n",
    "metadata_files = []\n",
    "\n",
    "for metadata in files:\n",
    "    metadata_files.append(\n",
    "        (\"metadata_files\", open(os.path.join(metadata_directory_path, metadata), \"rb\")))\n",
    "\n",
    "response = requests.post(\n",
    "        \"https://api.nftport.xyz/v0/metadata/directory\",\n",
    "        headers={\"Authorization\": \"2acf5f67-f155-4f2b-b611-56b053a674c6\"},\n",
    "        files=metadata_files\n",
    "    )\n",
    "print(response.json())"
   ]
  },
  {
   "cell_type": "code",
   "execution_count": null,
   "metadata": {},
   "outputs": [],
   "source": [
    "import requests\n",
    "\n",
    "url = \"https://api.nftport.xyz/v0/mints/customizable\"\n",
    "\n",
    "payload = \"{\\n  \\\"chain\\\": \\\"polygon\\\",\\n  \\\"contract_address\\\": \\\"0x4EEFf2a9aF5a96E00Bf3F328Ad21088c15c0D50e\\\",\\n  \\\"metadata_uri\\\": \\\"ipfs://bafybeifaqi5vzz4b4yhksa4ujr6n4ujirxl5tiybke3nomt2g4hiueblou/\\\",\\n  \\\"mint_to_address\\\": \\\"0x2752ca235436f7baEae41D30D335Ba1166FA6F8d\\\"\\n}\"\n",
    "headers = {\n",
    "    'Content-Type': \"application/json\",\n",
    "    'Authorization': \"2acf5f67-f155-4f2b-b611-56b053a674c6\"\n",
    "    }\n",
    "\n",
    "response = requests.request(\"POST\", url, data=payload, headers=headers)\n",
    "\n",
    "print(response.text)"
   ]
  },
  {
   "cell_type": "code",
   "execution_count": null,
   "metadata": {},
   "outputs": [],
   "source": []
  }
 ],
 "metadata": {
  "interpreter": {
   "hash": "2a01ac25e8d00656c7e73a1e9b7422d4961218a93a403fd352a9d35dc451e20a"
  },
  "kernelspec": {
   "display_name": "Python 3.6.5 ('base')",
   "language": "python",
   "name": "python3"
  },
  "language_info": {
   "codemirror_mode": {
    "name": "ipython",
    "version": 3
   },
   "file_extension": ".py",
   "mimetype": "text/x-python",
   "name": "python",
   "nbconvert_exporter": "python",
   "pygments_lexer": "ipython3",
   "version": "3.6.5"
  },
  "orig_nbformat": 4
 },
 "nbformat": 4,
 "nbformat_minor": 2
}
